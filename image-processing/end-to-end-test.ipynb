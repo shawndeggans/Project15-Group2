{
 "metadata": {
  "language_info": {
   "codemirror_mode": {
    "name": "ipython",
    "version": 3
   },
   "file_extension": ".py",
   "mimetype": "text/x-python",
   "name": "python",
   "nbconvert_exporter": "python",
   "pygments_lexer": "ipython3",
   "version": "3.8.5-final"
  },
  "orig_nbformat": 2,
  "kernelspec": {
   "name": "python3",
   "display_name": "Python 3",
   "language": "python"
  }
 },
 "nbformat": 4,
 "nbformat_minor": 2,
 "cells": [
  {
   "source": [
    "## Image Workflow\n",
    "\n",
    "\n",
    "\n"
   ],
   "cell_type": "markdown",
   "metadata": {}
  },
  {
   "cell_type": "code",
   "execution_count": 2,
   "metadata": {},
   "outputs": [],
   "source": [
    "# Libraries and variables from initial test\n",
    "# Be sure to instal the azure-storage-blob (add to the requirements.txt document)\n",
    "# !pip install azure-storage-blob\n",
    "## I'm not entirely sure we need this, but it's here\n",
    "# !pip install azure-identity\n",
    "# !pip install -U python-dotenv\n",
    "\n",
    "\n"
   ]
  },
  {
   "source": [
    "## STEP 1 - Test to make sure Blob Storage library is working"
   ],
   "cell_type": "markdown",
   "metadata": {}
  },
  {
   "cell_type": "code",
   "execution_count": 17,
   "metadata": {},
   "outputs": [
    {
     "output_type": "stream",
     "name": "stdout",
     "text": [
      "Azure Blob Storage v12.7.1 - Python quickstart sample\n"
     ]
    }
   ],
   "source": [
    "# Be sure we can load blob storage\n",
    "# Load the libraries\n",
    "from azure.storage.blob import BlobServiceClient, BlobClient, ContainerClient, __version__\n",
    "try:\n",
    "    print(\"Azure Blob Storage v\" + __version__ + \" - Python quickstart sample\")\n",
    "    # Quick start code goes here\n",
    "except Exception as ex:\n",
    "    print('Exception:')\n",
    "    print(ex)"
   ]
  },
  {
   "source": [
    "## Step 2 - Add the Blob Storage Connection String"
   ],
   "cell_type": "markdown",
   "metadata": {}
  },
  {
   "cell_type": "code",
   "execution_count": 18,
   "metadata": {},
   "outputs": [
    {
     "output_type": "stream",
     "name": "stdout",
     "text": [
      "The dotenv extension is already loaded. To reload it, use:\n  %reload_ext dotenv\n"
     ]
    }
   ],
   "source": [
    "%load_ext dotenv\n",
    "%dotenv\n",
    "# settings.py\n",
    "import os\n",
    "# The following are a SAS connection string for an Azure storage account using Blob storage\n",
    "# And a IoT Device SAS connection string for Azure IoT Hub.\n",
    "\n",
    "BLOB_CON_STRING = os.getenv(\"CON_STRING\")\n",
    "HUB_CON_STRING = os.getenv(\"HUB_STRING\")\n"
   ]
  },
  {
   "source": [
    "## Step 3- Accepts the processing image from the AudioToSpectrum ControllerModule"
   ],
   "cell_type": "markdown",
   "metadata": {}
  },
  {
   "cell_type": "code",
   "execution_count": 19,
   "metadata": {},
   "outputs": [
    {
     "output_type": "stream",
     "name": "stdout",
     "text": [
      "nn05e_20180504_000000 figure_2.png\nnn06a_20180716_000000 figure_106.png\nnn06a_20180716_000000 figure_13.png\nnn06a_20180716_000000 figure_149.png\nnn06a_20180716_000000 figure_151.png\nnn06a_20180716_000000 figure_27.png\nnn06a_20180716_000000 figure_28.png\nnn06a_20180716_000000 figure_3.png\nnn06a_20180716_000000 figure_34.png\nnn06e_20180512_000000 figure_3.png\n"
     ]
    }
   ],
   "source": [
    "# Setup - we need to move image files from our local data to the AudioToSpectrogram directory\n",
    "# get the file path\n",
    "path = '.\\\\testimages'\n",
    "for files in os.listdir(path):\n",
    "    if os.path.isfile(os.path.join(path, files)):\n",
    "        print(files)"
   ]
  },
  {
   "source": [
    "## Step 4 - Mock Audio Spectrogram Provider\n",
    "* As a set up, we need to have the audiotospectrum container set up\n",
    "* We also need to upload our testing images to it\n"
   ],
   "cell_type": "markdown",
   "metadata": {}
  },
  {
   "cell_type": "code",
   "execution_count": 20,
   "metadata": {},
   "outputs": [
    {
     "output_type": "stream",
     "name": "stdout",
     "text": [
      "nn06a_20180716_000000 figure_34.png\n"
     ]
    },
    {
     "output_type": "execute_result",
     "data": {
      "text/plain": [
       "{'etag': '\"0x8D8D84B8BC59E2B\"',\n",
       " 'last_modified': datetime.datetime(2021, 2, 23, 22, 37, 5, tzinfo=datetime.timezone.utc),\n",
       " 'client_request_id': 'a6f01e8e-7627-11eb-825a-38baf82f79bf',\n",
       " 'request_id': '56677a74-601e-002c-2834-0a192c000000',\n",
       " 'version': '2020-04-08',\n",
       " 'version_id': None,\n",
       " 'date': datetime.datetime(2021, 2, 23, 22, 37, 5, tzinfo=datetime.timezone.utc),\n",
       " 'copy_id': '25cfc4c3-ebb6-460f-968a-24f697b94eb0',\n",
       " 'copy_status': 'success'}"
      ]
     },
     "metadata": {},
     "execution_count": 20
    }
   ],
   "source": [
    "# This will represent the AudioToSpectrogram MOCK process\n",
    "import random\n",
    "\n",
    "# 1. Get the files from the audiotospectrum folder in blob storage\n",
    "# Create the inbox if it doesn't exists\n",
    "# Create the BlobServiceClient object which will be used to create a container client\n",
    "a2s_service_client = BlobServiceClient.from_connection_string(BLOB_CON_STRING)\n",
    "\n",
    "# Create a unique name for the container\n",
    "a2s_container_name = 'audiotospectrum'\n",
    "inbox_container_name = 'inbox2'\n",
    "account_name = 'sapg15g2'\n",
    "\n",
    "# Create the container\n",
    "a2s_container_client = a2s_service_client.get_container_client(a2s_container_name)\n",
    "blobs = list(a2s_container_client.list_blobs())\n",
    "blob = random.choice(blobs)\n",
    "# now that we have a random image, we want to move it into the inbox\n",
    "\n",
    "print(blob.name)\n",
    "\n",
    "# Source\n",
    "source_container_name = a2s_container_name\n",
    "source_file_path = blob.name\n",
    "source_blob = (f\"https://{account_name}.blob.core.windows.net/{source_container_name}/{source_file_path}\")\n",
    "\n",
    "# Target\n",
    "target_container_name = inbox_container_name\n",
    "target_file_path = blob.name\n",
    "copied_blob = a2s_service_client.get_blob_client(target_container_name, target_file_path)\n",
    "copied_blob.start_copy_from_url(source_blob)\n"
   ]
  },
  {
   "source": [
    "## Step 5 - Now time to pick up the file from the inbox"
   ],
   "cell_type": "markdown",
   "metadata": {}
  },
  {
   "cell_type": "code",
   "execution_count": 21,
   "metadata": {
    "tags": []
   },
   "outputs": [],
   "source": [
    "# Accepts the processing image from the AudioToSpectrogram ControllerModule\n",
    "\n",
    "# this will probably need to go into the listen method on the message client,\n",
    "# but for now, I'll just pull it from the inbox\n",
    "inbox_service_client = BlobServiceClient.from_connection_string(BLOB_CON_STRING)\n",
    "inbox_container_name = 'inbox'\n",
    "blob_name='nn06a_20180716_000000 figure_28.png'\n",
    "inbox_blob_client = inbox_service_client.get_blob_client(container=a2s_container_name, blob=blob_name)\n",
    "# convert this to a byte image\n",
    "byte_image = inbox_blob_client.download_blob().readall()\n"
   ]
  },
  {
   "source": [
    "## Step 6 - post the image to the model on served on a docker instance"
   ],
   "cell_type": "markdown",
   "metadata": {}
  },
  {
   "cell_type": "code",
   "execution_count": 22,
   "metadata": {},
   "outputs": [
    {
     "output_type": "execute_result",
     "data": {
      "text/plain": [
       "{'created': '2021-02-23T22:38:28.449273',\n",
       " 'id': '',\n",
       " 'iteration': '',\n",
       " 'predictions': [{'boundingBox': {'height': 0.14956676,\n",
       "    'left': 0.1058976,\n",
       "    'top': 0.60955017,\n",
       "    'width': 0.67933979},\n",
       "   'probability': 0.58929265,\n",
       "   'tagId': 0,\n",
       "   'tagName': 'rumble'},\n",
       "  {'boundingBox': {'height': 0.12694419,\n",
       "    'left': 0.18778198,\n",
       "    'top': 0.32857194,\n",
       "    'width': 0.40464241},\n",
       "   'probability': 0.32663706,\n",
       "   'tagId': 0,\n",
       "   'tagName': 'rumble'},\n",
       "  {'boundingBox': {'height': 0.12706349,\n",
       "    'left': 0.23507464,\n",
       "    'top': 0.55628984,\n",
       "    'width': 0.52045192},\n",
       "   'probability': 0.24418022,\n",
       "   'tagId': 0,\n",
       "   'tagName': 'rumble'},\n",
       "  {'boundingBox': {'height': 0.15271979,\n",
       "    'left': 0.19092798,\n",
       "    'top': 0.6689933,\n",
       "    'width': 0.51095524},\n",
       "   'probability': 0.15568013,\n",
       "   'tagId': 0,\n",
       "   'tagName': 'rumble'},\n",
       "  {'boundingBox': {'height': 0.18655946,\n",
       "    'left': 0.32361362,\n",
       "    'top': 0.30118832,\n",
       "    'width': 0.44842984},\n",
       "   'probability': 0.10838772,\n",
       "   'tagId': 0,\n",
       "   'tagName': 'rumble'},\n",
       "  {'boundingBox': {'height': 0.12845925,\n",
       "    'left': 0.21422516,\n",
       "    'top': 0.48112901,\n",
       "    'width': 0.46597726},\n",
       "   'probability': 0.10609587,\n",
       "   'tagId': 0,\n",
       "   'tagName': 'rumble'}],\n",
       " 'project': ''}"
      ]
     },
     "metadata": {},
     "execution_count": 22
    }
   ],
   "source": [
    "import requests\n",
    "\n",
    "# If this fails, make sure the docker container is running locally\n",
    "headers = {'Content-Type': 'application/octet-stream'}\n",
    "response = requests.post('http://127.0.0.1/image', headers = headers, data = byte_image)\n",
    "\n",
    "response.json()"
   ]
  },
  {
   "source": [
    "## Step 7 - Install and use OpenCV to apply bounding box"
   ],
   "cell_type": "markdown",
   "metadata": {}
  },
  {
   "cell_type": "code",
   "execution_count": 9,
   "metadata": {},
   "outputs": [
    {
     "output_type": "stream",
     "name": "stdout",
     "text": [
      "Requirement already satisfied: opencv-python in c:\\users\\sdeggans\\anaconda3\\lib\\site-packages (4.5.1.48)\nRequirement already satisfied: numpy>=1.17.3 in c:\\users\\sdeggans\\anaconda3\\lib\\site-packages (from opencv-python) (1.19.2)\n"
     ]
    }
   ],
   "source": [
    "! pip install opencv-python"
   ]
  },
  {
   "cell_type": "code",
   "execution_count": 10,
   "metadata": {},
   "outputs": [],
   "source": [
    "import cv2\n",
    "import numpy as np"
   ]
  },
  {
   "cell_type": "code",
   "execution_count": 23,
   "metadata": {},
   "outputs": [
    {
     "output_type": "stream",
     "name": "stdout",
     "text": [
      "\nDownloading blob to \n\t./data\\nn06a_20180716_000000 figure_28.png\n"
     ]
    }
   ],
   "source": [
    "# we need to write the file to the directory to use\n",
    "# cv2, so we will do that here\n",
    "## Download blobs\n",
    "local_path = './data'\n",
    "download_file_path = os.path.join(local_path, blob_name)\n",
    "print('\\nDownloading blob to \\n\\t' + download_file_path)\n",
    "\n",
    "with open(download_file_path, 'wb') as download_file:\n",
    "    download_file.write(byte_image)\n"
   ]
  },
  {
   "cell_type": "code",
   "execution_count": 24,
   "metadata": {},
   "outputs": [
    {
     "output_type": "stream",
     "name": "stdout",
     "text": [
      "840 1120\n"
     ]
    }
   ],
   "source": [
    "image = cv2.imread(download_file_path)\n",
    "(h, w) = image.shape[:2]\n",
    "print(h,w)"
   ]
  },
  {
   "source": [
    "## Step 8 - Get the predictions data for IoT Hub"
   ],
   "cell_type": "markdown",
   "metadata": {}
  },
  {
   "cell_type": "code",
   "execution_count": 25,
   "metadata": {},
   "outputs": [],
   "source": [
    "\n",
    "predictions = response.json()['predictions']"
   ]
  },
  {
   "cell_type": "code",
   "execution_count": 14,
   "metadata": {},
   "outputs": [],
   "source": [
    "#!pip install azure-iot-device"
   ]
  },
  {
   "cell_type": "code",
   "execution_count": 26,
   "metadata": {},
   "outputs": [
    {
     "output_type": "stream",
     "name": "stdout",
     "text": [
      "Sending predictions...\n",
      "Predictions successfully sent!\n"
     ]
    }
   ],
   "source": [
    "# can we write these values to the IoT hub\n",
    "from azure.iot.device.aio import IoTHubDeviceClient\n",
    "\n",
    "# Fetch the connection string from an enviornment variable\n",
    "conn_str = (HUB_CON_STRING)\n",
    "\n",
    "# Create instance of the device client using the authentication provider\n",
    "device_client = IoTHubDeviceClient.create_from_connection_string(conn_str)\n",
    "\n",
    "# Connect the device client.\n",
    "await device_client.connect()\n",
    "\n",
    "# Send a single message\n",
    "print(\"Sending predictions...\")\n",
    "await device_client.send_message(str(response.json()))\n",
    "print(\"Predictions successfully sent!\")\n",
    "\n",
    "# finally, disconnect\n",
    "await device_client.disconnect()"
   ]
  },
  {
   "source": [
    "## Step 9 - Create the spectogram image with the bounding box and label"
   ],
   "cell_type": "markdown",
   "metadata": {}
  },
  {
   "cell_type": "code",
   "execution_count": 27,
   "metadata": {},
   "outputs": [],
   "source": [
    "threshold = 30\n",
    "color=(0,255,0)\n",
    "for prediction in predictions:\n",
    "    \n",
    "    if prediction['probability']*100 > threshold and prediction['boundingBox']['left'] > 0.1 and prediction['boundingBox']['left']+prediction['boundingBox']['width']> 0.4:\n",
    "        leftbox = int(w * prediction['boundingBox']['left'])\n",
    "        topbox = int(h * prediction['boundingBox']['top'])\n",
    "        widthbox = int(w * prediction['boundingBox']['width'])\n",
    "        heightbox = int(h * prediction['boundingBox']['height'])\n",
    "        \n",
    "        cv2.putText(image, 'rumble '+str(prediction['probability']), (leftbox, topbox - 10),cv2.FONT_HERSHEY_SIMPLEX, 0.45, color, 2)\n",
    "       \n",
    "        cv2.rectangle(image, (leftbox, topbox), (leftbox+widthbox, topbox+heightbox) ,color, 2)\n",
    "    #cv2.imshow(\"output\",image)\n",
    "    cv2.imwrite('./data/posttest6.png',image)"
   ]
  },
  {
   "cell_type": "code",
   "execution_count": null,
   "metadata": {},
   "outputs": [],
   "source": []
  }
 ]
}