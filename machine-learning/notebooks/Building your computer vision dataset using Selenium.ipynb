{
 "cells": [
  {
   "cell_type": "markdown",
   "metadata": {},
   "source": [
    "### Pre-requisities"
   ]
  },
  {
   "cell_type": "markdown",
   "metadata": {},
   "source": [
    "* Check your chome version. Go to Browser->Help->About Chrome\n",
    "* Download [Driver](https://sites.google.com/a/chromium.org/chromedriver/downloads)"
   ]
  },
  {
   "cell_type": "code",
   "execution_count": null,
   "metadata": {},
   "outputs": [],
   "source": [
    "! pip install selenium"
   ]
  },
  {
   "cell_type": "code",
   "execution_count": 8,
   "metadata": {},
   "outputs": [],
   "source": [
    "import os\n",
    "import time\n",
    "import urllib.request\n",
    "from selenium import webdriver\n",
    "from selenium.webdriver.common.keys import Keys"
   ]
  },
  {
   "cell_type": "markdown",
   "metadata": {},
   "source": [
    "* Lets load the driver and open up google and inspect the chrome search bar.\n",
    "* We open up chrome and enter our phrase in the following lines."
   ]
  },
  {
   "cell_type": "code",
   "execution_count": 9,
   "metadata": {},
   "outputs": [],
   "source": [
    "\n",
    "search_string = 'Elephant rumble spectrogram'\n",
    "driver = webdriver.Chrome(\"selenium/chromedriver_win32/chromedriver.exe\") #path to folder\n",
    "driver.get('https://www.google.com/') #opens up google\n",
    "search = driver.find_element_by_name('q') # the name of the searchbox\n",
    "search.send_keys(search_string,Keys.ENTER)"
   ]
  },
  {
   "cell_type": "markdown",
   "metadata": {},
   "source": [
    "Now lets go the images tab."
   ]
  },
  {
   "cell_type": "code",
   "execution_count": 11,
   "metadata": {},
   "outputs": [],
   "source": [
    "elem = driver.find_element_by_link_text('Images')\n",
    "elem.get_attribute('href')\n",
    "elem.click()"
   ]
  },
  {
   "cell_type": "markdown",
   "metadata": {},
   "source": [
    "Scroll the page a set number of times."
   ]
  },
  {
   "cell_type": "code",
   "execution_count": 12,
   "metadata": {},
   "outputs": [],
   "source": [
    "value = 0\n",
    "for i in range(10):  #Scrolls the page 10 times\n",
    "    driver.execute_script('scrollBy(\"+ str(value) +\",+100);')\n",
    "    value += 100\n",
    "    time.sleep(4)"
   ]
  },
  {
   "cell_type": "markdown",
   "metadata": {},
   "source": [
    "Inspect the images again to get class string"
   ]
  },
  {
   "cell_type": "code",
   "execution_count": 13,
   "metadata": {},
   "outputs": [],
   "source": [
    "elements = driver.find_elements_by_xpath('//img[contains(@class,\"rg_i\") and contains(@class, \"Q4LuWd\")]')"
   ]
  },
  {
   "cell_type": "code",
   "execution_count": 14,
   "metadata": {},
   "outputs": [
    {
     "data": {
      "text/plain": [
       "[<selenium.webdriver.remote.webelement.WebElement (session=\"0a95dc162686136c88e91270ebb23e12\", element=\"2a4d5bd9-7776-41dd-819e-f3750737ccdf\")>,\n",
       " <selenium.webdriver.remote.webelement.WebElement (session=\"0a95dc162686136c88e91270ebb23e12\", element=\"22583c60-672d-4c43-91b2-f314b3c3b5a6\")>,\n",
       " <selenium.webdriver.remote.webelement.WebElement (session=\"0a95dc162686136c88e91270ebb23e12\", element=\"6fe16dfe-f63f-48f0-a9ab-428a0e1d22cd\")>,\n",
       " <selenium.webdriver.remote.webelement.WebElement (session=\"0a95dc162686136c88e91270ebb23e12\", element=\"ebaa0486-f95e-4ea7-826e-b304b7539a61\")>,\n",
       " <selenium.webdriver.remote.webelement.WebElement (session=\"0a95dc162686136c88e91270ebb23e12\", element=\"b48bb8fd-5e93-488f-a6ae-e7bebdddac11\")>,\n",
       " <selenium.webdriver.remote.webelement.WebElement (session=\"0a95dc162686136c88e91270ebb23e12\", element=\"5ee67c52-05d0-4655-bff0-94588329f4c6\")>,\n",
       " <selenium.webdriver.remote.webelement.WebElement (session=\"0a95dc162686136c88e91270ebb23e12\", element=\"3f9fdcc3-05d0-49c3-b658-08f9c7bd61ae\")>,\n",
       " <selenium.webdriver.remote.webelement.WebElement (session=\"0a95dc162686136c88e91270ebb23e12\", element=\"f15bdb8c-0a70-4830-8373-42031eb334bc\")>,\n",
       " <selenium.webdriver.remote.webelement.WebElement (session=\"0a95dc162686136c88e91270ebb23e12\", element=\"1dbd266d-5db1-488e-9391-a839901a2297\")>,\n",
       " <selenium.webdriver.remote.webelement.WebElement (session=\"0a95dc162686136c88e91270ebb23e12\", element=\"a4e2b346-c16b-40e6-9579-55becd593e62\")>,\n",
       " <selenium.webdriver.remote.webelement.WebElement (session=\"0a95dc162686136c88e91270ebb23e12\", element=\"730ba05b-d12f-4453-80d5-54a72e9709fa\")>,\n",
       " <selenium.webdriver.remote.webelement.WebElement (session=\"0a95dc162686136c88e91270ebb23e12\", element=\"d223b1a1-ddd4-4aa1-9b8f-6c56451a41f0\")>,\n",
       " <selenium.webdriver.remote.webelement.WebElement (session=\"0a95dc162686136c88e91270ebb23e12\", element=\"c3c08ec1-668d-4fdf-9b63-713be3939634\")>,\n",
       " <selenium.webdriver.remote.webelement.WebElement (session=\"0a95dc162686136c88e91270ebb23e12\", element=\"8693de30-785e-46b5-ba5b-c009ebd2c47a\")>,\n",
       " <selenium.webdriver.remote.webelement.WebElement (session=\"0a95dc162686136c88e91270ebb23e12\", element=\"a09b5134-eb2c-4f7d-8abf-4a24f3e604de\")>,\n",
       " <selenium.webdriver.remote.webelement.WebElement (session=\"0a95dc162686136c88e91270ebb23e12\", element=\"2ceb7e7b-6006-4708-82d4-4aefc8a5c46a\")>,\n",
       " <selenium.webdriver.remote.webelement.WebElement (session=\"0a95dc162686136c88e91270ebb23e12\", element=\"42277ab8-ff6d-4a18-ad06-59373e6ecce5\")>,\n",
       " <selenium.webdriver.remote.webelement.WebElement (session=\"0a95dc162686136c88e91270ebb23e12\", element=\"df044af2-0a10-4fe1-ac84-cce4ed2ed15c\")>,\n",
       " <selenium.webdriver.remote.webelement.WebElement (session=\"0a95dc162686136c88e91270ebb23e12\", element=\"5ea58b40-4b81-42af-934c-80d47d61a280\")>,\n",
       " <selenium.webdriver.remote.webelement.WebElement (session=\"0a95dc162686136c88e91270ebb23e12\", element=\"e82a3f41-3ce5-4c58-b831-da026bb6ae47\")>,\n",
       " <selenium.webdriver.remote.webelement.WebElement (session=\"0a95dc162686136c88e91270ebb23e12\", element=\"a0836762-1e96-41e4-a4a6-d126845fa35d\")>,\n",
       " <selenium.webdriver.remote.webelement.WebElement (session=\"0a95dc162686136c88e91270ebb23e12\", element=\"314da741-717d-4e08-a55c-9ba27aee9d79\")>,\n",
       " <selenium.webdriver.remote.webelement.WebElement (session=\"0a95dc162686136c88e91270ebb23e12\", element=\"907dedf1-9db6-4362-9c8c-88c036524a01\")>,\n",
       " <selenium.webdriver.remote.webelement.WebElement (session=\"0a95dc162686136c88e91270ebb23e12\", element=\"fca36fa7-a898-4b84-a209-5572908fd33d\")>,\n",
       " <selenium.webdriver.remote.webelement.WebElement (session=\"0a95dc162686136c88e91270ebb23e12\", element=\"754e7097-97e9-4671-b735-e88da370aa7b\")>,\n",
       " <selenium.webdriver.remote.webelement.WebElement (session=\"0a95dc162686136c88e91270ebb23e12\", element=\"8325acec-1a63-4483-86a1-2570d852cb00\")>,\n",
       " <selenium.webdriver.remote.webelement.WebElement (session=\"0a95dc162686136c88e91270ebb23e12\", element=\"6af35d76-a854-4ff6-8859-d25ef318ea83\")>,\n",
       " <selenium.webdriver.remote.webelement.WebElement (session=\"0a95dc162686136c88e91270ebb23e12\", element=\"6f43070f-8d65-4ca1-a92c-558003c6af16\")>,\n",
       " <selenium.webdriver.remote.webelement.WebElement (session=\"0a95dc162686136c88e91270ebb23e12\", element=\"9eb0d15c-0d38-400d-9e13-7576f1c5f22b\")>,\n",
       " <selenium.webdriver.remote.webelement.WebElement (session=\"0a95dc162686136c88e91270ebb23e12\", element=\"df1ad9ea-e071-4ad9-8564-aa29705fb446\")>,\n",
       " <selenium.webdriver.remote.webelement.WebElement (session=\"0a95dc162686136c88e91270ebb23e12\", element=\"76c9e42b-ca7a-4b8f-b497-3b0497e6225c\")>,\n",
       " <selenium.webdriver.remote.webelement.WebElement (session=\"0a95dc162686136c88e91270ebb23e12\", element=\"86b9fc44-ffa5-48a0-876b-2fb487569604\")>,\n",
       " <selenium.webdriver.remote.webelement.WebElement (session=\"0a95dc162686136c88e91270ebb23e12\", element=\"2f7f2847-9561-4f22-a3ae-ff5d9a5d9dc9\")>,\n",
       " <selenium.webdriver.remote.webelement.WebElement (session=\"0a95dc162686136c88e91270ebb23e12\", element=\"9f172368-3674-46f8-9d78-4254953e7293\")>,\n",
       " <selenium.webdriver.remote.webelement.WebElement (session=\"0a95dc162686136c88e91270ebb23e12\", element=\"1e982a59-5b60-4c25-b1f7-469e90428dc8\")>,\n",
       " <selenium.webdriver.remote.webelement.WebElement (session=\"0a95dc162686136c88e91270ebb23e12\", element=\"eadd8ce9-db77-4496-b0c0-a9d5c871bb86\")>,\n",
       " <selenium.webdriver.remote.webelement.WebElement (session=\"0a95dc162686136c88e91270ebb23e12\", element=\"345950df-85f9-4db4-91e2-fc15aa6cea84\")>,\n",
       " <selenium.webdriver.remote.webelement.WebElement (session=\"0a95dc162686136c88e91270ebb23e12\", element=\"3a251e46-7038-4b4b-9b88-6acec0ddc212\")>,\n",
       " <selenium.webdriver.remote.webelement.WebElement (session=\"0a95dc162686136c88e91270ebb23e12\", element=\"ae3587ee-60f7-44d6-8699-9471bc62ae1d\")>,\n",
       " <selenium.webdriver.remote.webelement.WebElement (session=\"0a95dc162686136c88e91270ebb23e12\", element=\"7f60bcf0-a046-4034-9773-9566550b916e\")>,\n",
       " <selenium.webdriver.remote.webelement.WebElement (session=\"0a95dc162686136c88e91270ebb23e12\", element=\"be406654-f4f7-4169-83f6-b67fe15f89a5\")>,\n",
       " <selenium.webdriver.remote.webelement.WebElement (session=\"0a95dc162686136c88e91270ebb23e12\", element=\"c7a0b3fc-042e-4cb1-b2d8-c560220218cf\")>,\n",
       " <selenium.webdriver.remote.webelement.WebElement (session=\"0a95dc162686136c88e91270ebb23e12\", element=\"e486eb63-005e-4515-9142-2a9d6a2819d4\")>,\n",
       " <selenium.webdriver.remote.webelement.WebElement (session=\"0a95dc162686136c88e91270ebb23e12\", element=\"17bead05-e9a9-4528-9ec6-fd4053ec9dd8\")>,\n",
       " <selenium.webdriver.remote.webelement.WebElement (session=\"0a95dc162686136c88e91270ebb23e12\", element=\"1cdb7dd9-7d2f-4e52-98fd-2e22b270d309\")>,\n",
       " <selenium.webdriver.remote.webelement.WebElement (session=\"0a95dc162686136c88e91270ebb23e12\", element=\"ccfb9ca9-d0e7-4b46-a316-92561bf714b8\")>,\n",
       " <selenium.webdriver.remote.webelement.WebElement (session=\"0a95dc162686136c88e91270ebb23e12\", element=\"2f3f4364-4227-4d52-9655-1a299bd7a79d\")>,\n",
       " <selenium.webdriver.remote.webelement.WebElement (session=\"0a95dc162686136c88e91270ebb23e12\", element=\"792cc05f-85d7-43e8-8c2b-da322349ca46\")>,\n",
       " <selenium.webdriver.remote.webelement.WebElement (session=\"0a95dc162686136c88e91270ebb23e12\", element=\"87d09800-6f02-4373-bf2b-14a2607ea967\")>,\n",
       " <selenium.webdriver.remote.webelement.WebElement (session=\"0a95dc162686136c88e91270ebb23e12\", element=\"a4083ea3-2052-43a0-9a1a-5818683c91ab\")>]"
      ]
     },
     "execution_count": 14,
     "metadata": {},
     "output_type": "execute_result"
    }
   ],
   "source": [
    "elements"
   ]
  },
  {
   "cell_type": "code",
   "execution_count": 15,
   "metadata": {},
   "outputs": [],
   "source": [
    "try:\n",
    "    os.mkdir('selenium/seleniumdownloads')\n",
    "except FileExistsError:\n",
    "    pass"
   ]
  },
  {
   "cell_type": "code",
   "execution_count": 16,
   "metadata": {},
   "outputs": [
    {
     "name": "stdout",
     "output_type": "stream",
     "text": [
      "downloaded 5 images\n",
      "downloaded 10 images\n",
      "downloaded 15 images\n",
      "downloaded 20 images\n",
      "downloaded 25 images\n",
      "downloaded 30 images\n",
      "downloaded 35 images\n"
     ]
    }
   ],
   "source": [
    "count = 0\n",
    "for i in elements:\n",
    "    src = i.get_attribute('src')\n",
    "    try:\n",
    "        if src != None:\n",
    "            src  = str(src)\n",
    "            count+=1\n",
    "            urllib.request.urlretrieve(src, os.path.join('selenium/seleniumdownloads','image'+str(count)+'.jpg'))\n",
    "            if count%5 == 0: \n",
    "                print(\"downloaded\",count,\"images\")\n",
    "        else:\n",
    "            raise TypeError\n",
    "    except TypeError:\n",
    "        pass"
   ]
  },
  {
   "cell_type": "code",
   "execution_count": null,
   "metadata": {},
   "outputs": [],
   "source": []
  }
 ],
 "metadata": {
  "kernelspec": {
   "display_name": "python3.8",
   "language": "python",
   "name": "python3"
  },
  "language_info": {
   "codemirror_mode": {
    "name": "ipython",
    "version": 3
   },
   "file_extension": ".py",
   "mimetype": "text/x-python",
   "name": "python",
   "nbconvert_exporter": "python",
   "pygments_lexer": "ipython3",
   "version": "3.8.5"
  }
 },
 "nbformat": 4,
 "nbformat_minor": 4
}
