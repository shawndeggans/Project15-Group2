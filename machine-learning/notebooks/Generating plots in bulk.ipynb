{
 "cells": [
  {
   "cell_type": "code",
   "execution_count": 20,
   "metadata": {},
   "outputs": [],
   "source": [
    "import numpy as np\n",
    "import IPython\n",
    "import IPython.display as ipd\n",
    "import pandas as pd\n",
    "import matplotlib.pyplot as plt\n",
    "import matplotlib.colors as color\n",
    "import soundfile\n",
    "import scipy.signal as sig\n",
    "import sklearn\n",
    "from tensorflow.keras.preprocessing.image import load_img\n",
    "from tensorflow.keras.preprocessing.image import img_to_array\n",
    "from numpy import expand_dims\n",
    "from PIL import Image\n",
    "from tensorflow.keras.preprocessing.image import ImageDataGenerator\n",
    "import math\n",
    "import os\n",
    "from os import listdir\n",
    "from os.path import isfile, join\n",
    "import Augmentor\n",
    "import sklearn.preprocessing as sk"
   ]
  },
  {
   "cell_type": "code",
   "execution_count": 8,
   "metadata": {},
   "outputs": [
    {
     "data": {
      "text/plain": [
       "['nn04d_20180717_000000.wav',\n",
       " 'nn04f_20180616_000000.wav',\n",
       " 'nn05c_20190214_000000.wav',\n",
       " 'nn05d_20180702_000000.wav',\n",
       " 'nn05e_20180504_000000.wav',\n",
       " 'nn05e_20181021_000000.wav',\n",
       " 'nn06b_20181121_000000.wav',\n",
       " 'nn06d_20180311_000000.wav',\n",
       " 'nn06e_20180512_000000.wav',\n",
       " 'nn06e_20181115_000000.wav',\n",
       " 'nn06e_20190128_000000.wav',\n",
       " 'nn06f_20180806_000000.wav',\n",
       " 'nn07b_20180923_000000.wav',\n",
       " 'nn08a_20181015_000000.wav',\n",
       " 'nn08c_20180902_000000.wav',\n",
       " 'nn10a_20180913_000000.wav',\n",
       " 'nn10b_20180728_000000.wav']"
      ]
     },
     "execution_count": 8,
     "metadata": {},
     "output_type": "execute_result"
    }
   ],
   "source": [
    "listdir('datafiles')"
   ]
  },
  {
   "cell_type": "code",
   "execution_count": 22,
   "metadata": {},
   "outputs": [],
   "source": [
    "def normalize(x, axis=0):\n",
    "    return sk.minmax_scale(x, axis=axis)\n",
    "\n",
    "\n",
    "def spec_plot2_one(s,samp,filename,i):\n",
    "    \n",
    "    try:\n",
    "        os.mkdir(filename.strip('.wav'))\n",
    "    except FileExistsError:\n",
    "        pass\n",
    "\n",
    "\n",
    "    [b,a] = sig.butter(4,[10/samp, 100/samp],'bandpass','ba') \n",
    "    data1 = sig.filtfilt(b, a, s)\n",
    "    data_norm=normalize(data1)\n",
    "    \n",
    "    fig, axs = plt.subplots(figsize=(14, 5)) \n",
    "    [f, t, Sxx] = sig.spectrogram(data_norm, samp,'hann',nperseg=samp,noverlap=samp*0.9,nfft = samp*3)\n",
    "    cmap = plt.get_cmap('Spectral') \n",
    "    norm = color.Normalize(vmin=np.amin(Sxx), vmax=np.amax(Sxx))\n",
    "    \n",
    "    axs.pcolormesh(t, f, Sxx, cmap=cmap, norm=norm)  \n",
    "    axs.set_ylim(10,70)\n",
    "    \n",
    "    plt.tight_layout()\n",
    "    plt.ioff()\n",
    "    fig.savefig(filename.strip('.wav')+'/'+str(i[0])+'_'+str(i[1])+'.png', bbox_inches='tight')\n",
    "    plt.close()   \n"
   ]
  },
  {
   "cell_type": "code",
   "execution_count": null,
   "metadata": {},
   "outputs": [],
   "source": [
    "X = pd.read_csv('nn_ele_hb_00-24hr_TrainingSet_v2.txt', sep=\"\\t\", header=0) \n",
    "offset=5 #5 sec offset\n",
    "x=0\n",
    "for file_path in listdir('datafiles')[-7:]:  \n",
    "    samples,sampling_rate=soundfile.read('datafiles/'+file_path)\n",
    "    num_rows= np.shape(X[X['filename']==file_path])[0]\n",
    "    ref_table=X[X['filename']==file_path]\n",
    "    fmax = ref_table['High Freq (Hz)'].values.tolist()\n",
    "    t_start=ref_table[ref_table.columns[2]][0:num_rows+1]-offset\n",
    "    t_start[t_start<0]=0\n",
    "    t_end=ref_table[ref_table.columns[2]][0:num_rows+1]+ref_table[ref_table.columns[4]][0:num_rows+1]+offset\n",
    "    print(file_path,len(ref_table))\n",
    "    x+=len(ref_table)\n",
    "    \n",
    "    ind=0\n",
    "    for i,j in zip(t_start.values.tolist(),t_end.values.tolist()):\n",
    "        spec_plot2_one(samples[math.floor(i)*sampling_rate:math.ceil(j)*sampling_rate],sampling_rate,file_path,[fmax[ind],ind])\n",
    "        ind+=1\n",
    "    ind=0    \n",
    "    \n",
    "    p = Augmentor.Pipeline(source_directory= file_path.strip('.wav'),output_directory='transformedimages')\n",
    "    p.random_distortion(probability=1, grid_width=4, grid_height=4, magnitude=8)\n",
    "    p.rotate180(probability=0.35)\n",
    "    p.zoom_random(0.3, percentage_area=0.5)\n",
    "    p.skew_tilt(0.6,0.3)\n",
    "    p.random_contrast(probability=0.4, min_factor=0.6, max_factor=1)\n",
    "    p.random_brightness(probability=0.45, min_factor=0.6, max_factor=1)\n",
    "    p.process()\n",
    "           \n",
    "print('total data points', x)"
   ]
  },
  {
   "cell_type": "code",
   "execution_count": null,
   "metadata": {},
   "outputs": [],
   "source": []
  }
 ],
 "metadata": {
  "kernelspec": {
   "display_name": "python3.8",
   "language": "python",
   "name": "python3"
  },
  "language_info": {
   "codemirror_mode": {
    "name": "ipython",
    "version": 3
   },
   "file_extension": ".py",
   "mimetype": "text/x-python",
   "name": "python",
   "nbconvert_exporter": "python",
   "pygments_lexer": "ipython3",
   "version": "3.8.5"
  }
 },
 "nbformat": 4,
 "nbformat_minor": 4
}
