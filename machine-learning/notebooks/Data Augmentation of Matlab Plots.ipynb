{
 "cells": [
  {
   "cell_type": "code",
   "execution_count": 3,
   "metadata": {},
   "outputs": [],
   "source": [
    "import Augmentor"
   ]
  },
  {
   "cell_type": "code",
   "execution_count": 5,
   "metadata": {},
   "outputs": [
    {
     "name": "stdout",
     "output_type": "stream",
     "text": [
      "Initialised with 175 image(s) found.\n",
      "Output directory set to /Users/parrot/Envs/Oxford-AI/Elephant/OxfordProject15/matlab/spec matlab plots transformed."
     ]
    }
   ],
   "source": [
    "p = Augmentor.Pipeline(source_directory=\n",
    "        \"/Users/parrot/Envs/Oxford-AI/Elephant/OxfordProject15/matlab/spec matlab plots \",\n",
    "                       output_directory=\"/Users/parrot/Envs/Oxford-AI/Elephant/OxfordProject15/matlab/spec matlab plots transformed\")\n",
    "                       \n",
    "                       \n",
    "                       \n",
    "                       "
   ]
  },
  {
   "cell_type": "code",
   "execution_count": 6,
   "metadata": {},
   "outputs": [
    {
     "name": "stderr",
     "output_type": "stream",
     "text": [
      "Processing <PIL.Image.Image image mode=RGB size=1120x840 at 0x11FC63D00>: 100%|██████████| 175/175 [00:11<00:00, 15.90 Samples/s]\n"
     ]
    }
   ],
   "source": [
    "p.random_distortion(probability=1, grid_width=4, grid_height=4, magnitude=8)\n",
    "p.rotate180(probability=0.5)\n",
    "p.zoom_random(0.4, percentage_area=0.7)\n",
    "p.skew_tilt(0.6,0.3)\n",
    "p.random_contrast(probability=0.45, min_factor=0.6, max_factor=1)\n",
    "p.random_brightness(probability=0.5, min_factor=0.6, max_factor=1)\n",
    "p.process()"
   ]
  }
 ],
 "metadata": {
  "kernelspec": {
   "display_name": "Python 3",
   "language": "python",
   "name": "python3"
  },
  "language_info": {
   "codemirror_mode": {
    "name": "ipython",
    "version": 3
   },
   "file_extension": ".py",
   "mimetype": "text/x-python",
   "name": "python",
   "nbconvert_exporter": "python",
   "pygments_lexer": "ipython3",
   "version": "3.8.6"
  }
 },
 "nbformat": 4,
 "nbformat_minor": 4
}
