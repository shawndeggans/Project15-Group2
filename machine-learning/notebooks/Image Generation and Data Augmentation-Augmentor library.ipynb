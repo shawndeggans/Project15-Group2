{
 "cells": [
  {
   "cell_type": "code",
   "execution_count": 20,
   "metadata": {},
   "outputs": [],
   "source": [
    "import numpy as np\n",
    "import IPython\n",
    "import IPython.display as ipd\n",
    "import pandas as pd\n",
    "import matplotlib.pyplot as plt\n",
    "import matplotlib.colors as color\n",
    "import soundfile\n",
    "import scipy.signal as sig\n",
    "import sklearn\n",
    "from tensorflow.keras.preprocessing.image import load_img\n",
    "from tensorflow.keras.preprocessing.image import img_to_array\n",
    "from numpy import expand_dims\n",
    "from PIL import Image\n",
    "from tensorflow.keras.preprocessing.image import ImageDataGenerator\n",
    "import math\n",
    "import os\n",
    "from os import listdir\n",
    "from os.path import isfile, join\n",
    "import Augmentor"
   ]
  },
  {
   "cell_type": "code",
   "execution_count": 21,
   "metadata": {},
   "outputs": [],
   "source": [
    "file_path = 'nn06f_20180806_000000.wav'\n",
    "\n",
    "# you can use scipy- import scipy.io.wavfile as siow - [samp, data] = siow.read(file_path, mmap=False)  \n",
    "samples,sampling_rate=soundfile.read(file_path)\n",
    "\n",
    "#replace this with X = pd.read_csv(r'..\\annotations\\training.txt', sep=\"\\t\", header=0)\n",
    "\n",
    "X = pd.read_csv('nn_ele_hb_00-24hr_TrainingSet_v2.txt', sep=\"\\t\", header=0) \n",
    "\n",
    "\n",
    "offset=5 #5 sec offset\n",
    "\n",
    "num_rows= np.shape(X[X['filename']==file_path])[0]\n",
    "ref_table=X[X['filename']==file_path]\n",
    "\n",
    "fmax = ref_table['High Freq (Hz)'].values.tolist()\n",
    "t_start=ref_table[ref_table.columns[2]][0:num_rows+1]-offset\n",
    "t_end=ref_table[ref_table.columns[2]][0:num_rows+1]+ref_table[ref_table.columns[4]][0:num_rows+1]+offset\n",
    "\n",
    "\n",
    "\n",
    "data = []\n",
    "\n",
    "for i,j in zip(t_start.values.tolist(),t_end.values.tolist()):\n",
    "    data.append(samples[math.floor(i)*sampling_rate:math.ceil(j)*sampling_rate])"
   ]
  },
  {
   "cell_type": "code",
   "execution_count": 22,
   "metadata": {},
   "outputs": [],
   "source": [
    "import sklearn.preprocessing as sk"
   ]
  },
  {
   "cell_type": "code",
   "execution_count": 37,
   "metadata": {},
   "outputs": [],
   "source": [
    "def normalize(x, axis=0):\n",
    "    return sk.minmax_scale(x, axis=axis)\n",
    "\n",
    "\n",
    "def spec_plot2_one(s,samp,filename,i):\n",
    "\n",
    "    [b,a] = sig.butter(4,[10/samp, 100/samp],'bandpass','ba') \n",
    "    data1 = sig.filtfilt(b, a, s)\n",
    "    data_norm=normalize(data1)\n",
    "    \n",
    "    fig, axs = plt.subplots(figsize=(14, 5)) #facecolor='w', edgecolor='k')\n",
    "        \n",
    "    [f, t, Sxx] = sig.spectrogram(data_norm, samp,'hann',nperseg=samp,noverlap=samp*0.9,nfft = samp*3)\n",
    "    cmap = plt.get_cmap('Spectral') #magma\n",
    "    norm = color.Normalize(vmin=np.amin(Sxx), vmax=np.amax(Sxx))\n",
    "    \n",
    "    axs.pcolormesh(t, f, Sxx, cmap=cmap, norm=norm)  \n",
    "    axs.set_ylim(10,70)\n",
    "    \n",
    "    plt.tight_layout()\n",
    "    plt.ioff()\n",
    "    fig.savefig('trainingimages/'+ filename + str(i)+'.png', bbox_inches='tight')\n",
    "    plt.close()    "
   ]
  },
  {
   "cell_type": "code",
   "execution_count": 38,
   "metadata": {},
   "outputs": [],
   "source": [
    "try:\n",
    "    os.mkdir('trainingimages')\n",
    "except FileExistsError:\n",
    "    pass"
   ]
  },
  {
   "cell_type": "code",
   "execution_count": 39,
   "metadata": {},
   "outputs": [
    {
     "name": "stderr",
     "output_type": "stream",
     "text": [
      "<ipython-input-37-c695b3bcfec4>:17: MatplotlibDeprecationWarning: shading='flat' when X and Y have the same dimensions as C is deprecated since 3.3.  Either specify the corners of the quadrilaterals with X and Y, or pass shading='auto', 'nearest' or 'gouraud', or set rcParams['pcolor.shading'].  This will become an error two minor releases later.\n",
      "  axs.pcolormesh(t, f, Sxx, cmap=cmap, norm=norm)\n",
      "<ipython-input-37-c695b3bcfec4>:17: MatplotlibDeprecationWarning: shading='flat' when X and Y have the same dimensions as C is deprecated since 3.3.  Either specify the corners of the quadrilaterals with X and Y, or pass shading='auto', 'nearest' or 'gouraud', or set rcParams['pcolor.shading'].  This will become an error two minor releases later.\n",
      "  axs.pcolormesh(t, f, Sxx, cmap=cmap, norm=norm)\n",
      "<ipython-input-37-c695b3bcfec4>:17: MatplotlibDeprecationWarning: shading='flat' when X and Y have the same dimensions as C is deprecated since 3.3.  Either specify the corners of the quadrilaterals with X and Y, or pass shading='auto', 'nearest' or 'gouraud', or set rcParams['pcolor.shading'].  This will become an error two minor releases later.\n",
      "  axs.pcolormesh(t, f, Sxx, cmap=cmap, norm=norm)\n",
      "<ipython-input-37-c695b3bcfec4>:17: MatplotlibDeprecationWarning: shading='flat' when X and Y have the same dimensions as C is deprecated since 3.3.  Either specify the corners of the quadrilaterals with X and Y, or pass shading='auto', 'nearest' or 'gouraud', or set rcParams['pcolor.shading'].  This will become an error two minor releases later.\n",
      "  axs.pcolormesh(t, f, Sxx, cmap=cmap, norm=norm)\n",
      "<ipython-input-37-c695b3bcfec4>:17: MatplotlibDeprecationWarning: shading='flat' when X and Y have the same dimensions as C is deprecated since 3.3.  Either specify the corners of the quadrilaterals with X and Y, or pass shading='auto', 'nearest' or 'gouraud', or set rcParams['pcolor.shading'].  This will become an error two minor releases later.\n",
      "  axs.pcolormesh(t, f, Sxx, cmap=cmap, norm=norm)\n",
      "<ipython-input-37-c695b3bcfec4>:17: MatplotlibDeprecationWarning: shading='flat' when X and Y have the same dimensions as C is deprecated since 3.3.  Either specify the corners of the quadrilaterals with X and Y, or pass shading='auto', 'nearest' or 'gouraud', or set rcParams['pcolor.shading'].  This will become an error two minor releases later.\n",
      "  axs.pcolormesh(t, f, Sxx, cmap=cmap, norm=norm)\n",
      "<ipython-input-37-c695b3bcfec4>:17: MatplotlibDeprecationWarning: shading='flat' when X and Y have the same dimensions as C is deprecated since 3.3.  Either specify the corners of the quadrilaterals with X and Y, or pass shading='auto', 'nearest' or 'gouraud', or set rcParams['pcolor.shading'].  This will become an error two minor releases later.\n",
      "  axs.pcolormesh(t, f, Sxx, cmap=cmap, norm=norm)\n",
      "<ipython-input-37-c695b3bcfec4>:17: MatplotlibDeprecationWarning: shading='flat' when X and Y have the same dimensions as C is deprecated since 3.3.  Either specify the corners of the quadrilaterals with X and Y, or pass shading='auto', 'nearest' or 'gouraud', or set rcParams['pcolor.shading'].  This will become an error two minor releases later.\n",
      "  axs.pcolormesh(t, f, Sxx, cmap=cmap, norm=norm)\n",
      "<ipython-input-37-c695b3bcfec4>:17: MatplotlibDeprecationWarning: shading='flat' when X and Y have the same dimensions as C is deprecated since 3.3.  Either specify the corners of the quadrilaterals with X and Y, or pass shading='auto', 'nearest' or 'gouraud', or set rcParams['pcolor.shading'].  This will become an error two minor releases later.\n",
      "  axs.pcolormesh(t, f, Sxx, cmap=cmap, norm=norm)\n",
      "<ipython-input-37-c695b3bcfec4>:17: MatplotlibDeprecationWarning: shading='flat' when X and Y have the same dimensions as C is deprecated since 3.3.  Either specify the corners of the quadrilaterals with X and Y, or pass shading='auto', 'nearest' or 'gouraud', or set rcParams['pcolor.shading'].  This will become an error two minor releases later.\n",
      "  axs.pcolormesh(t, f, Sxx, cmap=cmap, norm=norm)\n",
      "<ipython-input-37-c695b3bcfec4>:17: MatplotlibDeprecationWarning: shading='flat' when X and Y have the same dimensions as C is deprecated since 3.3.  Either specify the corners of the quadrilaterals with X and Y, or pass shading='auto', 'nearest' or 'gouraud', or set rcParams['pcolor.shading'].  This will become an error two minor releases later.\n",
      "  axs.pcolormesh(t, f, Sxx, cmap=cmap, norm=norm)\n",
      "<ipython-input-37-c695b3bcfec4>:17: MatplotlibDeprecationWarning: shading='flat' when X and Y have the same dimensions as C is deprecated since 3.3.  Either specify the corners of the quadrilaterals with X and Y, or pass shading='auto', 'nearest' or 'gouraud', or set rcParams['pcolor.shading'].  This will become an error two minor releases later.\n",
      "  axs.pcolormesh(t, f, Sxx, cmap=cmap, norm=norm)\n",
      "<ipython-input-37-c695b3bcfec4>:17: MatplotlibDeprecationWarning: shading='flat' when X and Y have the same dimensions as C is deprecated since 3.3.  Either specify the corners of the quadrilaterals with X and Y, or pass shading='auto', 'nearest' or 'gouraud', or set rcParams['pcolor.shading'].  This will become an error two minor releases later.\n",
      "  axs.pcolormesh(t, f, Sxx, cmap=cmap, norm=norm)\n"
     ]
    }
   ],
   "source": [
    "filename=ref_table['filename'].unique()[0].strip('.wav')\n",
    "\n",
    "for i in range(len(data)):\n",
    "    spec_plot2_one(data[i],sampling_rate,filename+str(fmax[i]),i)"
   ]
  },
  {
   "cell_type": "code",
   "execution_count": 40,
   "metadata": {},
   "outputs": [
    {
     "name": "stdout",
     "output_type": "stream",
     "text": [
      "Initialised with 13 image(s) found.\n",
      "Output directory set to trainingimages\\transformedimages."
     ]
    }
   ],
   "source": [
    "p = Augmentor.Pipeline(source_directory= \"trainingimages\",output_directory='transformedimages')"
   ]
  },
  {
   "cell_type": "code",
   "execution_count": 41,
   "metadata": {},
   "outputs": [
    {
     "name": "stderr",
     "output_type": "stream",
     "text": [
      "Processing <PIL.Image.Image image mode=RGBA size=1000x352 at 0x2499AF81CA0>: 100%|███████████████████| 13/13 [00:00<00:00, 28.52 Samples/s]\n"
     ]
    }
   ],
   "source": [
    "p.random_distortion(probability=1, grid_width=4, grid_height=4, magnitude=8)\n",
    "p.rotate180(probability=0.5)\n",
    "p.zoom_random(0.4, percentage_area=0.7)\n",
    "p.skew_tilt(0.6,0.3)\n",
    "p.random_contrast(probability=0.45, min_factor=0.6, max_factor=1)\n",
    "p.random_brightness(probability=0.5, min_factor=0.6, max_factor=1)\n",
    "p.process()"
   ]
  },
  {
   "cell_type": "code",
   "execution_count": null,
   "metadata": {},
   "outputs": [],
   "source": []
  },
  {
   "cell_type": "code",
   "execution_count": null,
   "metadata": {},
   "outputs": [],
   "source": []
  }
 ],
 "metadata": {
  "kernelspec": {
   "display_name": "Python 3",
   "language": "python",
   "name": "python3"
  },
  "language_info": {
   "codemirror_mode": {
    "name": "ipython",
    "version": 3
   },
   "file_extension": ".py",
   "mimetype": "text/x-python",
   "name": "python",
   "nbconvert_exporter": "python",
   "pygments_lexer": "ipython3",
   "version": "3.8.6"
  }
 },
 "nbformat": 4,
 "nbformat_minor": 4
}
