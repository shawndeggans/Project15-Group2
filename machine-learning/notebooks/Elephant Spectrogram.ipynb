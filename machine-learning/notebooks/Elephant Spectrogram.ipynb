{
 "cells": [
  {
   "cell_type": "code",
   "execution_count": null,
   "metadata": {},
   "outputs": [],
   "source": [
    "import pandas as pd\n",
    "import numpy as np\n",
    "import matplotlib.pyplot as plt\n",
    "import IPython.display as ipd\n",
    "import datetime\n",
    "import librosa\n",
    "import IPython.display as ipd\n",
    "import math\n",
    "import librosa.display\n",
    "import sklearn\n",
    "import seaborn as sns\n",
    "import scipy.signal as sig\n",
    "import warnings\n",
    "import scipy.io.wavfile as siow\n",
    "import matplotlib.colors as color\n",
    "#suppress depricate warnings\n",
    "warnings.filterwarnings(\"ignore\")\n",
    "#load annotations file\n",
    "X = pd.read_csv(r'..\\annotations\\training.txt', sep=\"\\t\", header=0)\n"
   ]
  },
  {
   "cell_type": "code",
   "execution_count": null,
   "metadata": {},
   "outputs": [],
   "source": [
    "X['High Freq (Hz)'].describe()"
   ]
  },
  {
   "cell_type": "code",
   "execution_count": null,
   "metadata": {},
   "outputs": [],
   "source": [
    "#hear the wav files at the training data time stamps\n",
    "def hear(file_path):\n",
    "    ref_table=X[X['filename']==file_path]\n",
    "    num_rows= np.shape(X[X['filename']==file_path])[0]\n",
    "    t_start= ref_table[ ref_table.columns[2]][0:num_rows+1]\n",
    "    t_end= ref_table[ ref_table.columns[2]][0:num_rows+1]+ ref_table[ ref_table.columns[4]][0:num_rows+1]\n",
    "    for i,j in zip(t_start,t_end):\n",
    "        ipd.display(ipd.Audio(samples[math.floor(i)*sampling_rate:math.ceil(j)*sampling_rate],rate=sampling_rate))"
   ]
  },
  {
   "cell_type": "code",
   "execution_count": null,
   "metadata": {},
   "outputs": [],
   "source": [
    "def normalize(x, axis=0):\n",
    "    return sklearn.preprocessing.minmax_scale(x, axis=axis)\n"
   ]
  },
  {
   "cell_type": "code",
   "execution_count": null,
   "metadata": {},
   "outputs": [],
   "source": [
    "#Scipy plot for single spectrogram and Periodogram Side for direct comparison\n",
    "def spec_plot2_one(file_path,num):\n",
    "    [samp, data] = siow.read(file_path, mmap=False)\n",
    "    num_rows= np.shape(X[X['filename']==file_path])[0]\n",
    "    ref_table=X[X['filename']==file_path]\n",
    "    temp=math.ceil(np.sqrt(num_rows))\n",
    "  \n",
    "    t_start=np.array(ref_table[ref_table.columns[2]])[num]\n",
    "    t_end=np.array(ref_table[ref_table.columns[2]])[num]+np.array(ref_table[ref_table.columns[4]])[num]\n",
    "    \n",
    "  \n",
    "    s=data[math.floor(t_start)*samp:math.ceil(t_end)*samp]\n",
    "        #filter data to spectral bands\n",
    "    [b,a] = sig.butter(4,[10/samp, 100/samp],'bandpass','ba') \n",
    "    data1 = sig.filtfilt(b, a, s)\n",
    "        #normalize\n",
    "    data_norm=normalize(data1)\n",
    "    \n",
    "    \n",
    "    fig, axs = plt.subplots(nrows=1, ncols=2,figsize=(20, 5), facecolor='w', edgecolor='k')\n",
    "    #plot spectrogram on lower axis\n",
    "        \n",
    "    [f, t, Sxx] = sig.spectrogram(data_norm, samp,'hann',nperseg=samp,noverlap=samp*0.9)\n",
    "    cmap = plt.get_cmap('magma')\n",
    "    norm = color.Normalize(vmin=np.amin(Sxx), vmax=np.amax(Sxx))\n",
    "    \n",
    "    axs[0].pcolormesh(t, f, Sxx, cmap=cmap, norm=norm)  \n",
    "    axs[0].set_ylim(10,70)\n",
    "    \n",
    "  \n",
    "    axs[1].plot(f,Sxx)\n",
    "    axs[1].set_xlim(0,60)\n",
    "    plt.show()\n",
    "    return f,t,Sxx"
   ]
  },
  {
   "cell_type": "code",
   "execution_count": null,
   "metadata": {},
   "outputs": [],
   "source": [
    "#Scipy plot for all spectrograms and periodograms for a given wav \n",
    "def spec_plot2_all(file_path):\n",
    "    a=X[X['filename']=='nn06f_20180806_000000.wav']['Selection']\n",
    "    b=a-np.min(a)\n",
    "    np.vectorize(spec_plot2_one)('nn06f_20180806_000000.wav',b)"
   ]
  },
  {
   "cell_type": "code",
   "execution_count": null,
   "metadata": {},
   "outputs": [],
   "source": [
    "spec_plot2_all('nn06f_20180806_000000.wav')"
   ]
  },
  {
   "cell_type": "code",
   "execution_count": null,
   "metadata": {},
   "outputs": [],
   "source": [
    "#Plots the spectrogram and power between any random two time points in the wav file\n",
    "#useful to see what the spectrogram looks like when an elephant\n",
    "#signal is not present (not the labeled cases)\n",
    "\n",
    "def spec_any_plot_one(file_path,t_start,t_end):\n",
    "    [samp, data] = siow.read(file_path, mmap=False)\n",
    "  \n",
    "    fig, axs = plt.subplots(nrows=1, ncols=2,figsize=(20, 5), facecolor='w', edgecolor='k')\n",
    "    \n",
    "    s=data[math.floor(t_start)*samp:math.ceil(t_end)*samp]\n",
    "        #filter data to spectral bands\n",
    "    [b,a] = sig.butter(4,[10/samp, 100/samp],'bandpass','ba') \n",
    "    data1 = sig.filtfilt(b, a, s)\n",
    "        #normalize\n",
    "    data_norm=normalize(data1)\n",
    "    \n",
    "    #plot spectrogram on lower axis\n",
    "        \n",
    "    [f, t, Sxx] = sig.spectrogram(data_norm, samp,'hann',nperseg=samp,noverlap=samp*0.9)\n",
    "    cmap = plt.get_cmap('magma')\n",
    "    norm = color.Normalize(vmin=np.amin(Sxx), vmax=np.amax(Sxx))\n",
    "   \n",
    "    axs[0].pcolormesh(t, f, Sxx, cmap=cmap, norm=norm)  \n",
    "    axs[0].set_ylim(10,70)\n",
    "    \n",
    "    axs[1].plot(f,Sxx)\n",
    "    axs[1].set_xlim(0,60)\n",
    "\n",
    "    plt.show()\n",
    "    \n",
    "    return f,t,Sxx\n",
    "\n",
    "#Divides signal into plots of time length \"0.1*(t_end-t_start)\"\n",
    "#and then plots thespectrogram and power between the two time points \n",
    "#in the wav file useful to see what the spectrogram looks like \n",
    "#when an elephant signal is not present. More granular than spec_any_plot_one\n",
    "def spec_any_plot_all(file_path,t_start,t_end):\n",
    "\n",
    "    ts=np.arange(t_start, t_end, 0.1*(t_end-t_start))\n",
    "    te=np.arange(t_start+10, t_end+10, 0.1*(t_end-t_start))\n",
    "    d = {'a': ts, 'b': te}\n",
    "    df = pd.DataFrame(data=d)\n",
    "    np.vectorize(spec_any_plot_one)(file_path,df['a'],df['b'])"
   ]
  },
  {
   "cell_type": "code",
   "execution_count": null,
   "metadata": {},
   "outputs": [],
   "source": [
    "#Example\n",
    "spec_any_plot_all('nn06f_20180806_000000.wav',40000,40100)"
   ]
  }
 ],
 "metadata": {
  "kernelspec": {
   "display_name": "Python 3",
   "language": "python",
   "name": "python3"
  },
  "language_info": {
   "codemirror_mode": {
    "name": "ipython",
    "version": 3
   },
   "file_extension": ".py",
   "mimetype": "text/x-python",
   "name": "python",
   "nbconvert_exporter": "python",
   "pygments_lexer": "ipython3",
   "version": "3.8.6"
  }
 },
 "nbformat": 4,
 "nbformat_minor": 4
}
