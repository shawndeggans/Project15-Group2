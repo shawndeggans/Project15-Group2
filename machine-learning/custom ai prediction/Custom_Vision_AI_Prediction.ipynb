{
 "cells": [
  {
   "cell_type": "code",
   "execution_count": 1,
   "metadata": {
    "colab": {
     "base_uri": "https://localhost:8080/"
    },
    "id": "dnGCATQjU872",
    "outputId": "8811e1b2-c058-4e49-ae45-cc99c434cc86"
   },
   "outputs": [
    {
     "name": "stdout",
     "output_type": "stream",
     "text": [
      "Collecting azure-cognitiveservices-vision-customvision\n",
      "  Downloading azure_cognitiveservices_vision_customvision-3.1.0-py2.py3-none-any.whl (62 kB)\n",
      "\u001b[K     |████████████████████████████████| 62 kB 744 kB/s eta 0:00:01\n",
      "\u001b[?25hCollecting azure-common~=1.1\n",
      "  Downloading azure_common-1.1.26-py2.py3-none-any.whl (12 kB)\n",
      "Collecting msrest>=0.5.0\n",
      "  Downloading msrest-0.6.19-py2.py3-none-any.whl (84 kB)\n",
      "\u001b[K     |████████████████████████████████| 84 kB 1.3 MB/s eta 0:00:01\n",
      "\u001b[?25hCollecting isodate>=0.6.0\n",
      "  Downloading isodate-0.6.0-py2.py3-none-any.whl (45 kB)\n",
      "\u001b[K     |████████████████████████████████| 45 kB 1.1 MB/s eta 0:00:01\n",
      "\u001b[?25hRequirement already satisfied: certifi>=2017.4.17 in /Users/parrot/Library/Python/3.8/lib/python/site-packages (from msrest>=0.5.0->azure-cognitiveservices-vision-customvision) (2020.6.20)\n",
      "Requirement already satisfied: requests-oauthlib>=0.5.0 in /usr/local/lib/python3.8/site-packages (from msrest>=0.5.0->azure-cognitiveservices-vision-customvision) (1.3.0)\n",
      "Requirement already satisfied: requests~=2.16 in /usr/local/lib/python3.8/site-packages (from msrest>=0.5.0->azure-cognitiveservices-vision-customvision) (2.25.0)\n",
      "Requirement already satisfied: six in /Users/parrot/Library/Python/3.8/lib/python/site-packages (from isodate>=0.6.0->msrest>=0.5.0->azure-cognitiveservices-vision-customvision) (1.15.0)\n",
      "Requirement already satisfied: oauthlib>=3.0.0 in /usr/local/lib/python3.8/site-packages (from requests-oauthlib>=0.5.0->msrest>=0.5.0->azure-cognitiveservices-vision-customvision) (3.1.0)\n",
      "Requirement already satisfied: idna<3,>=2.5 in /usr/local/lib/python3.8/site-packages (from requests~=2.16->msrest>=0.5.0->azure-cognitiveservices-vision-customvision) (2.10)\n",
      "Requirement already satisfied: chardet<4,>=3.0.2 in /usr/local/lib/python3.8/site-packages (from requests~=2.16->msrest>=0.5.0->azure-cognitiveservices-vision-customvision) (3.0.4)\n",
      "Requirement already satisfied: urllib3<1.27,>=1.21.1 in /usr/local/lib/python3.8/site-packages (from requests~=2.16->msrest>=0.5.0->azure-cognitiveservices-vision-customvision) (1.26.2)\n",
      "Installing collected packages: azure-common, isodate, msrest, azure-cognitiveservices-vision-customvision\n",
      "Successfully installed azure-cognitiveservices-vision-customvision-3.1.0 azure-common-1.1.26 isodate-0.6.0 msrest-0.6.19\n"
     ]
    }
   ],
   "source": [
    "!pip install azure-cognitiveservices-vision-customvision"
   ]
  },
  {
   "cell_type": "code",
   "execution_count": null,
   "metadata": {},
   "outputs": [],
   "source": [
    "!pip install opencv-python"
   ]
  },
  {
   "cell_type": "markdown",
   "metadata": {
    "id": "Bd3NuwjCVDXk"
   },
   "source": [
    "Links:\n",
    "1. https://www.henkboelman.com/articles/create-your-first-model-with-azure-custom-vision-and-python/\n",
    "\n",
    "2. "
   ]
  },
  {
   "cell_type": "code",
   "execution_count": 2,
   "metadata": {
    "id": "imWyuow6VJBJ"
   },
   "outputs": [],
   "source": [
    "from azure.cognitiveservices.vision.customvision.training import CustomVisionTrainingClient\n",
    "from azure.cognitiveservices.vision.customvision.prediction import CustomVisionPredictionClient\n",
    "from azure.cognitiveservices.vision.customvision.training.models import ImageFileCreateBatch, ImageFileCreateEntry, Region\n",
    "from msrest.authentication import ApiKeyCredentials\n",
    "import time"
   ]
  },
  {
   "cell_type": "code",
   "execution_count": 9,
   "metadata": {
    "id": "k8UsRwDvVWlq"
   },
   "outputs": [],
   "source": [
    "# Replace with valid values\n",
    "ENDPOINT = \"https://tgp13.cognitiveservices.azure.com/\"\n",
    "prediction_key = \"1d283b26b1b743728f503c63bf0fe94b\" \n",
    "prediction_resource_id = '/subscriptions/389687c1-3847-41ea-90a3-216448592e2f/resourceGroups/T/providers/Microsoft.CognitiveServices/accounts/tgp13'#\"96166a2b-7e8b-425a-a93e-090af6cde90b\""
   ]
  },
  {
   "cell_type": "code",
   "execution_count": 10,
   "metadata": {
    "id": "GU39P1PlWCAY"
   },
   "outputs": [],
   "source": [
    "prediction_credentials = ApiKeyCredentials(in_headers={\"Prediction-key\": prediction_key})\n",
    "predictor = CustomVisionPredictionClient(ENDPOINT, prediction_credentials)"
   ]
  },
  {
   "cell_type": "code",
   "execution_count": 15,
   "metadata": {},
   "outputs": [
    {
     "name": "stdout",
     "output_type": "stream",
     "text": [
      "Collecting opencv-python\n",
      "  Downloading opencv_python-4.5.1.48-cp38-cp38-macosx_10_13_x86_64.whl (40.3 MB)\n",
      "\u001b[K     |████████████████████████████████| 40.3 MB 466 kB/s eta 0:00:01\n",
      "\u001b[?25hRequirement already satisfied: numpy>=1.17.3 in /usr/local/lib/python3.8/site-packages (from opencv-python) (1.19.4)\n",
      "Installing collected packages: opencv-python\n",
      "Successfully installed opencv-python-4.5.1.48\n"
     ]
    }
   ],
   "source": []
  },
  {
   "cell_type": "code",
   "execution_count": 7,
   "metadata": {},
   "outputs": [
    {
     "name": "stdout",
     "output_type": "stream",
     "text": [
      "/Users/parrot/Envs/Oxford-AI/Elephant/OxfordProject15/custom ai prediction\r\n"
     ]
    }
   ],
   "source": []
  },
  {
   "cell_type": "code",
   "execution_count": 54,
   "metadata": {
    "colab": {
     "base_uri": "https://localhost:8080/"
    },
    "id": "FngdFjjsW1yW",
    "outputId": "b65a5996-d2c6-4c59-9959-c7ea82dfedc7"
   },
   "outputs": [
    {
     "name": "stdout",
     "output_type": "stream",
     "text": [
      "\trumble: 68.96% bbox.left = 0.24, bbox.top = 0.57, bbox.width = 0.52, bbox.height = 0.18\n",
      "\trumble: 3.20% bbox.left = 0.00, bbox.top = 0.50, bbox.width = 0.42, bbox.height = 0.36\n",
      "\trumble: 3.19% bbox.left = 0.06, bbox.top = 0.20, bbox.width = 0.05, bbox.height = 0.08\n",
      "\trumble: 2.97% bbox.left = 0.06, bbox.top = 0.28, bbox.width = 0.05, bbox.height = 0.08\n",
      "\trumble: 2.68% bbox.left = 0.00, bbox.top = 0.16, bbox.width = 0.15, bbox.height = 0.33\n",
      "\trumble: 2.58% bbox.left = 0.11, bbox.top = 0.64, bbox.width = 0.05, bbox.height = 0.08\n",
      "\trumble: 1.85% bbox.left = 0.10, bbox.top = 0.71, bbox.width = 0.05, bbox.height = 0.09\n",
      "\trumble: 1.70% bbox.left = 0.00, bbox.top = 0.31, bbox.width = 0.15, bbox.height = 0.30\n",
      "\trumble: 1.50% bbox.left = 0.16, bbox.top = 0.64, bbox.width = 0.05, bbox.height = 0.08\n",
      "\trumble: 1.44% bbox.left = 0.69, bbox.top = 0.07, bbox.width = 0.31, bbox.height = 0.79\n",
      "\trumble: 1.39% bbox.left = 0.05, bbox.top = 0.37, bbox.width = 0.05, bbox.height = 0.07\n",
      "\trumble: 1.39% bbox.left = 0.21, bbox.top = 0.15, bbox.width = 0.05, bbox.height = 0.07\n",
      "\trumble: 1.27% bbox.left = 0.06, bbox.top = 0.13, bbox.width = 0.05, bbox.height = 0.08\n",
      "\trumble: 1.19% bbox.left = 0.00, bbox.top = 0.45, bbox.width = 0.16, bbox.height = 0.31\n",
      "\trumble: 1.16% bbox.left = 0.05, bbox.top = 0.49, bbox.width = 0.05, bbox.height = 0.09\n",
      "\trumble: 1.12% bbox.left = 0.00, bbox.top = 0.02, bbox.width = 0.16, bbox.height = 0.32\n",
      "\trumble: 1.12% bbox.left = 0.00, bbox.top = 0.30, bbox.width = 0.58, bbox.height = 0.70\n",
      "\trumble: 1.10% bbox.left = 0.67, bbox.top = 0.31, bbox.width = 0.18, bbox.height = 0.31\n",
      "\trumble: 1.05% bbox.left = 0.10, bbox.top = 0.61, bbox.width = 0.18, bbox.height = 0.29\n",
      "\trumble: 1.03% bbox.left = 0.11, bbox.top = 0.78, bbox.width = 0.05, bbox.height = 0.09\n",
      "\trumble: 1.02% bbox.left = 0.06, bbox.top = 0.64, bbox.width = 0.05, bbox.height = 0.09\n",
      "\trumble: 1.01% bbox.left = 0.05, bbox.top = 0.43, bbox.width = 0.05, bbox.height = 0.08\n",
      "\trumble: 0.95% bbox.left = 0.10, bbox.top = 0.10, bbox.width = 0.16, bbox.height = 0.30\n",
      "\trumble: 0.92% bbox.left = 0.58, bbox.top = 0.71, bbox.width = 0.05, bbox.height = 0.08\n",
      "\trumble: 0.89% bbox.left = 0.00, bbox.top = 0.00, bbox.width = 0.36, bbox.height = 0.37\n",
      "\trumble: 0.89% bbox.left = 0.57, bbox.top = 0.67, bbox.width = 0.18, bbox.height = 0.31\n",
      "\trumble: 0.87% bbox.left = 0.38, bbox.top = 0.00, bbox.width = 0.55, bbox.height = 0.25\n",
      "\trumble: 0.85% bbox.left = 0.21, bbox.top = 0.70, bbox.width = 0.06, bbox.height = 0.10\n",
      "\trumble: 0.83% bbox.left = 0.31, bbox.top = 0.32, bbox.width = 0.17, bbox.height = 0.30\n",
      "\trumble: 0.81% bbox.left = 0.04, bbox.top = 0.53, bbox.width = 0.18, bbox.height = 0.30\n",
      "\trumble: 0.79% bbox.left = 0.15, bbox.top = 0.71, bbox.width = 0.06, bbox.height = 0.09\n",
      "\trumble: 0.79% bbox.left = 0.42, bbox.top = 0.00, bbox.width = 0.06, bbox.height = 0.08\n",
      "\trumble: 0.76% bbox.left = 0.00, bbox.top = 0.00, bbox.width = 0.56, bbox.height = 0.55\n",
      "\trumble: 0.75% bbox.left = 0.47, bbox.top = 0.00, bbox.width = 0.06, bbox.height = 0.08\n",
      "\trumble: 0.74% bbox.left = 0.37, bbox.top = 0.00, bbox.width = 0.06, bbox.height = 0.08\n",
      "\trumble: 0.71% bbox.left = 0.78, bbox.top = 0.09, bbox.width = 0.17, bbox.height = 0.32\n",
      "\trumble: 0.71% bbox.left = 0.42, bbox.top = 0.65, bbox.width = 0.49, bbox.height = 0.35\n",
      "\trumble: 0.71% bbox.left = 0.78, bbox.top = 0.80, bbox.width = 0.19, bbox.height = 0.20\n",
      "\trumble: 0.69% bbox.left = 0.00, bbox.top = 0.71, bbox.width = 0.48, bbox.height = 0.29\n",
      "\trumble: 0.68% bbox.left = 0.53, bbox.top = 0.71, bbox.width = 0.05, bbox.height = 0.08\n",
      "\trumble: 0.68% bbox.left = 0.52, bbox.top = 0.00, bbox.width = 0.06, bbox.height = 0.08\n",
      "\trumble: 0.67% bbox.left = 0.16, bbox.top = 0.03, bbox.width = 0.16, bbox.height = 0.29\n",
      "\trumble: 0.67% bbox.left = 0.00, bbox.top = 0.13, bbox.width = 0.31, bbox.height = 0.39\n",
      "\trumble: 0.67% bbox.left = 0.15, bbox.top = 0.35, bbox.width = 0.07, bbox.height = 0.07\n",
      "\trumble: 0.67% bbox.left = 0.20, bbox.top = 0.24, bbox.width = 0.18, bbox.height = 0.30\n",
      "\trumble: 0.67% bbox.left = 0.89, bbox.top = 0.42, bbox.width = 0.06, bbox.height = 0.09\n",
      "\trumble: 0.67% bbox.left = 0.15, bbox.top = 0.74, bbox.width = 0.18, bbox.height = 0.26\n",
      "\trumble: 0.65% bbox.left = 0.47, bbox.top = 0.67, bbox.width = 0.17, bbox.height = 0.30\n",
      "\trumble: 0.65% bbox.left = 0.52, bbox.top = 0.03, bbox.width = 0.16, bbox.height = 0.30\n",
      "\trumble: 0.65% bbox.left = 0.78, bbox.top = 0.31, bbox.width = 0.18, bbox.height = 0.30\n",
      "\trumble: 0.62% bbox.left = 0.57, bbox.top = 0.00, bbox.width = 0.17, bbox.height = 0.26\n",
      "\trumble: 0.61% bbox.left = 0.10, bbox.top = 0.25, bbox.width = 0.17, bbox.height = 0.29\n",
      "\trumble: 0.60% bbox.left = 0.42, bbox.top = 0.71, bbox.width = 0.06, bbox.height = 0.09\n",
      "\trumble: 0.59% bbox.left = 0.32, bbox.top = 0.00, bbox.width = 0.05, bbox.height = 0.08\n",
      "\trumble: 0.59% bbox.left = 0.64, bbox.top = 0.29, bbox.width = 0.36, bbox.height = 0.36\n",
      "\trumble: 0.57% bbox.left = 0.89, bbox.top = 0.50, bbox.width = 0.05, bbox.height = 0.08\n",
      "\trumble: 0.56% bbox.left = 0.21, bbox.top = 0.78, bbox.width = 0.06, bbox.height = 0.09\n",
      "\trumble: 0.55% bbox.left = 0.47, bbox.top = 0.78, bbox.width = 0.05, bbox.height = 0.08\n",
      "\trumble: 0.52% bbox.left = 0.53, bbox.top = 0.78, bbox.width = 0.05, bbox.height = 0.08\n",
      "\trumble: 0.52% bbox.left = 0.67, bbox.top = 0.46, bbox.width = 0.18, bbox.height = 0.30\n",
      "\trumble: 0.52% bbox.left = 0.62, bbox.top = 0.78, bbox.width = 0.38, bbox.height = 0.22\n",
      "\trumble: 0.52% bbox.left = 0.58, bbox.top = 0.78, bbox.width = 0.05, bbox.height = 0.08\n",
      "\trumble: 0.50% bbox.left = 0.10, bbox.top = 0.28, bbox.width = 0.05, bbox.height = 0.07\n",
      "\trumble: 0.50% bbox.left = 0.50, bbox.top = 0.00, bbox.width = 0.50, bbox.height = 0.56\n"
     ]
    }
   ],
   "source": [
    "# Open the sample image and get back the prediction results.\n",
    "with open(\"testimage.png\", mode=\"rb\") as test_data:\n",
    "    # project id and iteration name\n",
    "    results = predictor.detect_image('344c208b-4b70-41f8-b50a-9b2918e8d444', 'Iteration1', test_data) \n",
    "\n",
    "# Display the results.    \n",
    "for prediction in results.predictions:\n",
    "      print(\"\\t\" + prediction.tag_name + \": {0:.2f}% bbox.left = {1:.2f}, bbox.top = {2:.2f}, bbox.width = {3:.2f}, bbox.height = {4:.2f}\".format(prediction.probability * 100, prediction.bounding_box.left, prediction.bounding_box.top, prediction.bounding_box.width, prediction.bounding_box.height))\n",
    "\n"
   ]
  },
  {
   "cell_type": "code",
   "execution_count": 55,
   "metadata": {
    "colab": {
     "base_uri": "https://localhost:8080/"
    },
    "id": "cw_HzvEGW_o4",
    "outputId": "7eb694e1-e81f-4ea7-81c0-c0a58403cb31"
   },
   "outputs": [
    {
     "name": "stdout",
     "output_type": "stream",
     "text": [
      "840 1120\n"
     ]
    }
   ],
   "source": [
    "import cv2\n",
    "import numpy as np\n",
    "\n",
    "image = cv2.imread('testimage.png')\n",
    "(h, w) = image.shape[:2]\n",
    "print(h,w)\n",
    "\n",
    "threshold=30 # 30 % threshold"
   ]
  },
  {
   "cell_type": "code",
   "execution_count": 57,
   "metadata": {
    "colab": {
     "base_uri": "https://localhost:8080/"
    },
    "id": "I_94j-T-Xb9n",
    "outputId": "56468143-fd9f-4f31-d2a7-e543e1eab247"
   },
   "outputs": [
    {
     "name": "stdout",
     "output_type": "stream",
     "text": [
      "272 482 582 152\n"
     ]
    },
    {
     "data": {
      "text/plain": [
       "True"
      ]
     },
     "execution_count": 57,
     "metadata": {},
     "output_type": "execute_result"
    }
   ],
   "source": [
    "\n",
    "for prediction in results.predictions:\n",
    "    if prediction.probability * 100 > threshold:\n",
    "       x = np.array([prediction.bounding_box.left, prediction.bounding_box.top, prediction.bounding_box.width, prediction.bounding_box.height])\n",
    "       box = x * np.array([w, h, w, h])\n",
    "\n",
    "       leftbox = int(w * prediction.bounding_box.left)\n",
    "       topbox = int(h * prediction.bounding_box.top)\n",
    "       widthbox = int(w * prediction.bounding_box.width)\n",
    "       heightbox = int(h * prediction.bounding_box.height)\n",
    "      \n",
    "       print(leftbox,topbox,widthbox,heightbox)\n",
    "       color = (0, 255, 0)\n",
    "       cv2.putText(image, 'rumble', (leftbox, topbox - 10),cv2.FONT_HERSHEY_SIMPLEX, 0.45, color, 2)\n",
    "       \n",
    "       cv2.rectangle(image, (leftbox, topbox), (leftbox+widthbox, topbox+heightbox) ,(0, 255, 0), 2)\n",
    "#cv2.imshow(\"Output\", image)      \n",
    "cv2.imwrite('imageboundingbox3.png',image)"
   ]
  },
  {
   "cell_type": "markdown",
   "metadata": {
    "id": "pMjnmWYqZFXj"
   },
   "source": [
    "**ISSUE**\n",
    "\n",
    "https://stackoverflow.com/questions/50794707/how-to-use-azure-custom-vision-service-response-boundingbox-to-plot-shape\n"
   ]
  },
  {
   "cell_type": "markdown",
   "metadata": {
    "id": "Ey0TdO51ZTwm"
   },
   "source": [
    "Additional help:\n",
    "\n",
    "https://docs.microsoft.com/en-us/azure/cognitive-services/Custom-Vision-Service/quickstarts/object-detection?tabs=visual-studio&pivots=programming-language-python\n",
    "\n",
    "\n"
   ]
  }
 ],
 "metadata": {
  "colab": {
   "collapsed_sections": [],
   "name": "Custom Vision AI Prediction",
   "provenance": []
  },
  "kernelspec": {
   "display_name": "Python 3",
   "language": "python",
   "name": "python3"
  },
  "language_info": {
   "codemirror_mode": {
    "name": "ipython",
    "version": 3
   },
   "file_extension": ".py",
   "mimetype": "text/x-python",
   "name": "python",
   "nbconvert_exporter": "python",
   "pygments_lexer": "ipython3",
   "version": "3.8.6"
  }
 },
 "nbformat": 4,
 "nbformat_minor": 1
}
