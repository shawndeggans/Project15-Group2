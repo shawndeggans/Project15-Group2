{
 "cells": [
  {
   "cell_type": "code",
   "execution_count": 3,
   "metadata": {},
   "outputs": [
    {
     "data": {
      "text/plain": [
       "{'created': '2021-01-22T21:54:34.725826',\n",
       " 'id': '',\n",
       " 'iteration': '',\n",
       " 'predictions': [{'boundingBox': {'height': 0.3128144,\n",
       "    'left': 0.30054761,\n",
       "    'top': 0.58424783,\n",
       "    'width': 0.41037297},\n",
       "   'probability': 0.62341928,\n",
       "   'tagId': 0,\n",
       "   'tagName': 'rumble'},\n",
       "  {'boundingBox': {'height': 0.05757351,\n",
       "    'left': 0.12166549,\n",
       "    'top': 0.91562443,\n",
       "    'width': 0.01419695},\n",
       "   'probability': 0.1619464,\n",
       "   'tagId': 0,\n",
       "   'tagName': 'rumble'},\n",
       "  {'boundingBox': {'height': 0.28273646,\n",
       "    'left': 0.22632599,\n",
       "    'top': 0.52372305,\n",
       "    'width': 0.40892878},\n",
       "   'probability': 0.15415291,\n",
       "   'tagId': 0,\n",
       "   'tagName': 'rumble'}],\n",
       " 'project': ''}"
      ]
     },
     "execution_count": 3,
     "metadata": {},
     "output_type": "execute_result"
    }
   ],
   "source": [
    "import requests\n",
    "\n",
    "headers = {'Content-Type': 'application/octet-stream'}\n",
    "\n",
    "with open('test.png', mode=\"rb\") as test_image:\n",
    "    response = requests.post('http://localhost:80/image', headers = headers, data = test_image)\n",
    "\n",
    "response.json()"
   ]
  },
  {
   "cell_type": "code",
   "execution_count": 5,
   "metadata": {},
   "outputs": [
    {
     "name": "stdout",
     "output_type": "stream",
     "text": [
      "Collecting opencv-python\n",
      "  Downloading opencv_python-4.5.1.48-cp38-cp38-win_amd64.whl (34.9 MB)\n",
      "Requirement already satisfied: numpy>=1.17.3 in c:\\users\\aneeq\\anaconda3\\envs\\py38\\lib\\site-packages (from opencv-python) (1.19.4)\n",
      "Installing collected packages: opencv-python\n",
      "Successfully installed opencv-python-4.5.1.48\n"
     ]
    }
   ],
   "source": [
    "! pip install opencv-python"
   ]
  },
  {
   "cell_type": "code",
   "execution_count": 15,
   "metadata": {},
   "outputs": [],
   "source": [
    "import cv2\n",
    "import numpy as np\n",
    "\n",
    "import os\n"
   ]
  },
  {
   "cell_type": "code",
   "execution_count": 16,
   "metadata": {},
   "outputs": [
    {
     "name": "stdout",
     "output_type": "stream",
     "text": [
      "352 1000\n"
     ]
    }
   ],
   "source": [
    "image = cv2.imread('test.png')\n",
    "(h, w) = image.shape[:2]\n",
    "print(h,w)"
   ]
  },
  {
   "cell_type": "code",
   "execution_count": 17,
   "metadata": {},
   "outputs": [],
   "source": [
    "predictions = response.json()['predictions']"
   ]
  },
  {
   "cell_type": "code",
   "execution_count": 18,
   "metadata": {},
   "outputs": [],
   "source": [
    "threshold = 18\n",
    "color=(0,255,0)\n",
    "for prediction in predictions:\n",
    "    \n",
    "    if prediction['probability']*100 > threshold and prediction['boundingBox']['left'] > 0.1 and prediction['boundingBox']['left']+prediction['boundingBox']['width']> 0.4:\n",
    "        leftbox = int(w * prediction['boundingBox']['left'])\n",
    "        topbox = int(h * prediction['boundingBox']['top'])\n",
    "        widthbox = int(w * prediction['boundingBox']['width'])\n",
    "        heightbox = int(h * prediction['boundingBox']['height'])\n",
    "        \n",
    "        cv2.putText(image, 'rumble '+str(prediction['probability']), (leftbox, topbox - 10),cv2.FONT_HERSHEY_SIMPLEX, 0.45, color, 2)\n",
    "       \n",
    "        cv2.rectangle(image, (leftbox, topbox), (leftbox+widthbox, topbox+heightbox) ,color, 2)\n",
    "    #cv2.imshow(\"output\",image)\n",
    "    cv2.imwrite('new.png',image)\n",
    "\n",
    "        \n"
   ]
  },
  {
   "cell_type": "code",
   "execution_count": null,
   "metadata": {},
   "outputs": [],
   "source": [
    "\n",
    "os.getcw"
   ]
  }
 ],
 "metadata": {
  "kernelspec": {
   "display_name": "python3.8",
   "language": "python",
   "name": "python3"
  },
  "language_info": {
   "codemirror_mode": {
    "name": "ipython",
    "version": 3
   },
   "file_extension": ".py",
   "mimetype": "text/x-python",
   "name": "python",
   "nbconvert_exporter": "python",
   "pygments_lexer": "ipython3",
   "version": "3.8.5"
  }
 },
 "nbformat": 4,
 "nbformat_minor": 4
}
